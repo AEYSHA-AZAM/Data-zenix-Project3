{
  "nbformat": 4,
  "nbformat_minor": 0,
  "metadata": {
    "colab": {
      "provenance": [],
      "authorship_tag": "ABX9TyNYe6hltqmkGEaY2KHmK35Z",
      "include_colab_link": true
    },
    "kernelspec": {
      "name": "python3",
      "display_name": "Python 3"
    },
    "language_info": {
      "name": "python"
    }
  },
  "cells": [
    {
      "cell_type": "markdown",
      "metadata": {
        "id": "view-in-github",
        "colab_type": "text"
      },
      "source": [
        "<a href=\"https://colab.research.google.com/github/AEYSHA-AZAM/Data-zenix-Project3/blob/main/Data_cleaning_project.ipynb\" target=\"_parent\"><img src=\"https://colab.research.google.com/assets/colab-badge.svg\" alt=\"Open In Colab\"/></a>"
      ]
    },
    {
      "cell_type": "code",
      "execution_count": null,
      "metadata": {
        "colab": {
          "base_uri": "https://localhost:8080/"
        },
        "id": "IxwhjcfAXsWH",
        "outputId": "387642e9-25fa-475c-f547-63674a3ff4f0"
      },
      "outputs": [
        {
          "output_type": "stream",
          "name": "stdout",
          "text": [
            "✅ Datasets created successfully!\n"
          ]
        }
      ],
      "source": [
        "# Dataset 1: Employee info with missing, duplicates, and outliers\n",
        "import pandas as pd\n",
        "import numpy as np\n",
        "\n",
        "data1 = {\n",
        "    'ID': [1, 2, 3, 4, 4],  # Duplicate row\n",
        "    'Name': ['Ali', 'Sara', 'Bilal', 'Sara', 'Sara'],\n",
        "    'Age': [25, np.nan, 28, np.nan, 999],  # Missing + Outlier\n",
        "    'Gender': ['Male', 'Female', 'Male', 'Female', None],\n",
        "    'Salary': [40000, 50000, 48000, 50000, 1000000]  # Extreme outlier\n",
        "}\n",
        "\n",
        "df1 = pd.DataFrame(data1)\n",
        "df1.to_csv(\"dataset1.csv\", index=False)\n",
        "\n",
        "# Dataset 2: Department info with missing and outlier\n",
        "data2 = {\n",
        "    'Emp_ID': [101, 102, 103, 104, 105],\n",
        "    'Department': ['HR', 'Finance', 'IT', 'HR', None],  # Missing\n",
        "    'Join_Year': [2015, 2016, 2020, 2019, 2017],\n",
        "    'Performance_Score': [5, np.nan, 9, 7, 100],  # Missing + Outlier\n",
        "    'City': ['Lahore', 'Karachi', 'Lahore', 'Islamabad', 'Peshawar']\n",
        "}\n",
        "\n",
        "df2 = pd.DataFrame(data2)\n",
        "df2.to_csv(\"dataset2.csv\", index=False)\n",
        "\n",
        "print(\"✅ Datasets created successfully!\")\n"
      ]
    },
    {
      "cell_type": "code",
      "source": [
        "# Step 1: Import Libraries\n",
        "import pandas as pd\n",
        "import numpy as np\n",
        "import matplotlib.pyplot as plt\n",
        "import seaborn as sns\n",
        "pd.set_option('display.max_columns', None)\n",
        "sns.set(style=\"whitegrid\")\n",
        "\n",
        "# Step 2: Load CSVs\n",
        "df1 = pd.read_csv(\"dataset1.csv\")\n",
        "df2 = pd.read_csv(\"dataset2.csv\")\n",
        "\n",
        "# Step 3: Initial Inspection\n",
        "print(df1.info(), df2.info())\n",
        "\n",
        "# Step 4: Handle Missing\n",
        "for col in df1.columns:\n",
        "    df1[col].fillna(df1[col].mean() if df1[col].dtype in ['float64', 'int64'] else df1[col].mode()[0], inplace=True)\n",
        "for col in df2.columns:\n",
        "    df2[col].fillna(df2[col].mean() if df2[col].dtype in ['float64', 'int64'] else df2[col].mode()[0], inplace=True)\n",
        "\n",
        "# Step 5: Remove Duplicates\n",
        "df1.drop_duplicates(inplace=True)\n",
        "df2.drop_duplicates(inplace=True)\n",
        "\n",
        "# Step 6: Standardize Columns\n",
        "df1.columns = df1.columns.str.strip().str.lower().str.replace(' ', '_')\n",
        "df2.columns = df2.columns.str.strip().str.lower().str.replace(' ', '_')\n",
        "\n",
        "# Step 7: Clean Category Text\n",
        "if 'gender' in df1.columns: df1['gender'] = df1['gender'].str.lower().str.strip()\n",
        "if 'department' in df2.columns: df2['department'] = df2['department'].str.lower().str.strip()\n",
        "\n",
        "# Step 8: Outlier Removal (IQR)\n",
        "def remove_outliers(df):\n",
        "    for col in df.select_dtypes(include=['float64', 'int64']).columns:\n",
        "        Q1 = df[col].quantile(0.25)\n",
        "        Q3 = df[col].quantile(0.75)\n",
        "        IQR = Q3 - Q1\n",
        "        lower = Q1 - 1.5 * IQR\n",
        "        upper = Q3 + 1.5 * IQR\n",
        "        df = df[(df[col] >= lower) & (df[col] <= upper)]\n",
        "    return df\n",
        "\n",
        "df1_cleaned = remove_outliers(df1)\n",
        "df2_cleaned = remove_outliers(df2)\n",
        "\n",
        "# Step 9: Save Cleaned Files\n",
        "df1_cleaned.to_csv(\"dataset1_cleaned.csv\", index=False)\n",
        "df2_cleaned.to_csv(\"dataset2_cleaned.csv\", index=False)\n",
        "\n",
        "print(\"🎉 Cleaning complete!\")\n"
      ],
      "metadata": {
        "colab": {
          "base_uri": "https://localhost:8080/"
        },
        "id": "aLIOJh6UaR3r",
        "outputId": "a0108fd9-ec88-4b15-ddf7-9a145a581d94"
      },
      "execution_count": null,
      "outputs": [
        {
          "output_type": "stream",
          "name": "stdout",
          "text": [
            "<class 'pandas.core.frame.DataFrame'>\n",
            "RangeIndex: 5 entries, 0 to 4\n",
            "Data columns (total 5 columns):\n",
            " #   Column  Non-Null Count  Dtype  \n",
            "---  ------  --------------  -----  \n",
            " 0   ID      5 non-null      int64  \n",
            " 1   Name    5 non-null      object \n",
            " 2   Age     3 non-null      float64\n",
            " 3   Gender  4 non-null      object \n",
            " 4   Salary  5 non-null      int64  \n",
            "dtypes: float64(1), int64(2), object(2)\n",
            "memory usage: 332.0+ bytes\n",
            "<class 'pandas.core.frame.DataFrame'>\n",
            "RangeIndex: 5 entries, 0 to 4\n",
            "Data columns (total 5 columns):\n",
            " #   Column             Non-Null Count  Dtype  \n",
            "---  ------             --------------  -----  \n",
            " 0   Emp_ID             5 non-null      int64  \n",
            " 1   Department         4 non-null      object \n",
            " 2   Join_Year          5 non-null      int64  \n",
            " 3   Performance_Score  4 non-null      float64\n",
            " 4   City               5 non-null      object \n",
            "dtypes: float64(1), int64(2), object(2)\n",
            "memory usage: 332.0+ bytes\n",
            "None None\n",
            "🎉 Cleaning complete!\n"
          ]
        },
        {
          "output_type": "stream",
          "name": "stderr",
          "text": [
            "/tmp/ipython-input-5-2391801660.py:18: FutureWarning: A value is trying to be set on a copy of a DataFrame or Series through chained assignment using an inplace method.\n",
            "The behavior will change in pandas 3.0. This inplace method will never work because the intermediate object on which we are setting values always behaves as a copy.\n",
            "\n",
            "For example, when doing 'df[col].method(value, inplace=True)', try using 'df.method({col: value}, inplace=True)' or df[col] = df[col].method(value) instead, to perform the operation inplace on the original object.\n",
            "\n",
            "\n",
            "  df1[col].fillna(df1[col].mean() if df1[col].dtype in ['float64', 'int64'] else df1[col].mode()[0], inplace=True)\n",
            "/tmp/ipython-input-5-2391801660.py:20: FutureWarning: A value is trying to be set on a copy of a DataFrame or Series through chained assignment using an inplace method.\n",
            "The behavior will change in pandas 3.0. This inplace method will never work because the intermediate object on which we are setting values always behaves as a copy.\n",
            "\n",
            "For example, when doing 'df[col].method(value, inplace=True)', try using 'df.method({col: value}, inplace=True)' or df[col] = df[col].method(value) instead, to perform the operation inplace on the original object.\n",
            "\n",
            "\n",
            "  df2[col].fillna(df2[col].mean() if df2[col].dtype in ['float64', 'int64'] else df2[col].mode()[0], inplace=True)\n"
          ]
        }
      ]
    }
  ]
}